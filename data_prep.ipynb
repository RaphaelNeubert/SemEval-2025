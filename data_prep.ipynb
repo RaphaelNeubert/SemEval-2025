{
 "cells": [
  {
   "cell_type": "code",
   "execution_count": 1,
   "id": "e4d8208e-d69d-43d6-ae00-f3dd09aaf148",
   "metadata": {},
   "outputs": [],
   "source": [
    "import h5py\n",
    "import matplotlib.pyplot as plt\n",
    "from collections import Counter\n",
    "from data import Vocabulary\n",
    "import numpy as np\n",
    "from tqdm import tqdm\n",
    "import pandas\n",
    "import re"
   ]
  },
  {
   "cell_type": "markdown",
   "id": "9cce755b-fb60-48b5-aa84-7bd3a34208a2",
   "metadata": {},
   "source": [
    "# Pretraining Data"
   ]
  },
  {
   "cell_type": "code",
   "execution_count": 2,
   "id": "c5072c80-1448-446a-859c-38c30ec80e96",
   "metadata": {},
   "outputs": [],
   "source": [
    "f = open(\"data/books_large.txt\")\n",
    "data = f.readlines()"
   ]
  },
  {
   "cell_type": "code",
   "execution_count": 3,
   "id": "e1e060de-2152-49be-bf27-050ba8c6f8c6",
   "metadata": {},
   "outputs": [],
   "source": [
    "counter = Counter()\n",
    "for d in data:\n",
    "    counter[len(d.split())] += 1"
   ]
  },
  {
   "cell_type": "code",
   "execution_count": 4,
   "id": "382c2f85-4464-4094-ae32-439af119730a",
   "metadata": {},
   "outputs": [
    {
     "name": "stdout",
     "output_type": "stream",
     "text": [
      "Sentences longer than 100 tokens: 11113\n"
     ]
    },
    {
     "data": {
      "image/png": "[encoded data removed]",
      "text/plain": [
       "<Figure size 1200x600 with 2 Axes>"
      ]
     },
     "metadata": {},
     "output_type": "display_data"
    }
   ],
   "source": [
    "sorted_items = sorted(counter.items(), key=lambda x: x[0])\n",
    "lengths, counts = zip(*sorted_items)\n",
    "sums = [sum(counts[i:]) for i in range(len(lengths))]\n",
    "\n",
    "fig, axs = plt.subplots(1, 2, figsize=(12, 6))\n",
    "\n",
    "axs[0].bar(lengths[:100], counts[:100])\n",
    "axs[0].set_title(\"Counts by Length\")\n",
    "axs[0].set_xlabel(\"sentence length\")\n",
    "axs[0].set_ylabel(\"count\")\n",
    "\n",
    "axs[1].bar(lengths[:100], sums[:100])\n",
    "axs[1].set_title(\"Cumulative Counts by Length\")\n",
    "axs[1].set_xlabel(\"sentence length\")\n",
    "\n",
    "print(f\"Sentences longer than 100 tokens: {sum(counts[100:])}\")"
   ]
  },
  {
   "cell_type": "code",
   "execution_count": 5,
   "id": "fefa07ea-6e81-4503-be92-8c329cc9ac01",
   "metadata": {},
   "outputs": [
    {
     "name": "stderr",
     "output_type": "stream",
     "text": [
      "100%|█████████████████████████████████████████████████████████████████████████████████████████████████████████████████████████████████████████████████████████████| 74004228/74004228 [1:30:24<00:00, 13641.36it/s]\n"
     ]
    }
   ],
   "source": [
    "min_seq_len = 5\n",
    "max_seq_len = 100\n",
    "\n",
    "valid_size = 1e5\n",
    "test_size = 1e5\n",
    "\n",
    "vocab = Vocabulary.load(\"data/vocab.json\")\n",
    "indices = np.arange(len(data))\n",
    "np.random.shuffle(indices)\n",
    "\n",
    "with h5py.File(\"data/pretraining_split.h5\", \"w\") as h5f:\n",
    "    dt = h5py.special_dtype(vlen=int)\n",
    "    valid_ds = h5f.create_dataset(\"validation\", shape=(valid_size,), dtype=dt, chunks=True)\n",
    "    test_ds = h5f.create_dataset(\"test\", shape=(test_size,), dtype=dt, chunks=True)\n",
    "    training_ds = h5f.create_dataset(\"training\", shape=(len(data) - valid_size - test_size,), dtype=dt, chunks=True, maxshape=(None,))\n",
    "    \n",
    "    count_valid = count_test = count_train  = 0\n",
    "    for idx in tqdm(indices):\n",
    "        wrd_indices = vocab.words_to_indices(data[idx].split())\n",
    "        \n",
    "        if len(wrd_indices) < min_seq_len or len(wrd_indices) > max_seq_len:\n",
    "            continue\n",
    "\n",
    "        if count_valid < valid_size:\n",
    "            valid_ds[count_valid] = wrd_indices\n",
    "            count_valid += 1\n",
    "        elif count_test < test_size:\n",
    "            test_ds[count_test] = wrd_indices\n",
    "            count_test += 1\n",
    "        else:\n",
    "            training_ds[count_train] = wrd_indices\n",
    "            count_train += 1\n",
    "    \n",
    "    training_ds.resize((count_train,)) # since we filtered out some sentences, resize to the actual size"
   ]
  },
  {
   "cell_type": "markdown",
   "id": "f1b767d9-fed6-42bf-b943-63e97a7418e9",
   "metadata": {},
   "source": [
    "### UNK Ratio"
   ]
  },
  {
   "cell_type": "code",
   "execution_count": 28,
   "id": "f1507268-fd70-4f96-8278-baaaa9cc9cc5",
   "metadata": {},
   "outputs": [
    {
     "name": "stdout",
     "output_type": "stream",
     "text": [
      "Total tokens: 1450196\n",
      "UNK tokens: 22857\n",
      "Ratio: 1.5761%\n"
     ]
    }
   ],
   "source": [
    "with h5py.File(\"data/pretraining_split.h5\", \"r\") as h5f:\n",
    "    valid_ds = h5f[\"validation\"]\n",
    "    unk_index = vocab.word_to_index[vocab.unk_token]\n",
    "    total_unk = 0\n",
    "    total = 0\n",
    "    for wrd_indices in valid_ds:\n",
    "        total_unk += sum(wrd_indices==unk_index)\n",
    "        total += len(wrd_indices)\n",
    "    print(f\"Total tokens: {total}\")\n",
    "    print(f\"UNK tokens: {total_unk}\")\n",
    "    print(f\"Ratio: {round(total_unk/total*100, 4)}%\")"
   ]
  },
  {
   "cell_type": "markdown",
   "id": "6fc62830-880b-4fb4-b446-ce359fac6ecc",
   "metadata": {},
   "source": [
    "# Finetuning Data|"
   ]
  },
  {
   "cell_type": "code",
   "execution_count": 3,
   "id": "553c1224-cf36-4cc2-8fcd-33f483dd00f2",
   "metadata": {},
   "outputs": [],
   "source": [
    "train_ds = pandas.read_csv(\"data/emotion_dataset_new_train.csv\")\n",
    "eval_ds = pandas.read_csv(\"data/emotion_dataset_new_eval.csv\")\n",
    "vocab = Vocabulary.load(\"data/vocab2.json\")"
   ]
  },
  {
   "cell_type": "code",
   "execution_count": 4,
   "id": "5697e7c6-8947-479c-92f9-5c55022f6136",
   "metadata": {},
   "outputs": [
    {
     "name": "stdout",
     "output_type": "stream",
     "text": [
      "Anger       0.160263\n",
      "Fear        0.129352\n",
      "Joy         0.357197\n",
      "Sadness     0.313231\n",
      "Surprise    0.046307\n",
      "dtype: float64\n",
      "Anger        6.239744\n",
      "Fear         7.730829\n",
      "Joy          2.799575\n",
      "Sadness      3.192531\n",
      "Surprise    21.594953\n",
      "dtype: float64\n"
     ]
    },
    {
     "data": {
      "image/png": "[encoded data removed]",
      "text/plain": [
       "<Figure size 640x480 with 1 Axes>"
      ]
     },
     "metadata": {},
     "output_type": "display_data"
    }
   ],
   "source": [
    "label_counts = train_ds[['Anger', 'Fear', 'Joy', 'Sadness', 'Surprise']].sum()\n",
    "ratios = label_counts/ len(train_ds)\n",
    "ratios.plot(kind=\"bar\")\n",
    "plt.ylabel('Ratio label set to unset')\n",
    "print(ratios)\n",
    "print(1/ratios)  # pos_weights"
   ]
  },
  {
   "cell_type": "code",
   "execution_count": 5,
   "id": "f3909929-8e85-4708-a3d6-d086dc74c798",
   "metadata": {},
   "outputs": [],
   "source": [
    "def process_str(x: str) -> list[str]:\n",
    "    x = x.lower()\n",
    "    x = re.sub(r'([.,!?()\"\\'])', r' \\1 ', x) # add whitespace around punctuation\n",
    "    return x.split()"
   ]
  },
  {
   "cell_type": "code",
   "execution_count": 6,
   "id": "42841188-24f6-4a52-a4af-115caee1a961",
   "metadata": {},
   "outputs": [],
   "source": [
    "def prepare_data(df):\n",
    "    features = df['text'].apply(lambda x: np.array(vocab.words_to_indices(process_str(x)), dtype=np.int32)).to_list()\n",
    "    labels = df[['Anger', 'Fear', 'Joy', 'Sadness', 'Surprise']].to_numpy(dtype=np.int32)\n",
    "    return features, labels\n",
    "\n",
    "train_features, train_labels = prepare_data(train_ds)\n",
    "eval_features, eval_labels = prepare_data(eval_ds)\n"
   ]
  },
  {
   "cell_type": "code",
   "execution_count": 7,
   "id": "04d45cc1-8a7c-495b-b9ed-89d793f44599",
   "metadata": {},
   "outputs": [],
   "source": [
    "with h5py.File(\"data/finetuning_split.h5\", \"w\") as h5f:\n",
    "    compound_dtype = np.dtype([('feature', h5py.special_dtype(vlen=int)),\n",
    "                               ('label', np.int32, (5,))])\n",
    "    \n",
    "    train_data = np.array([(f, l) for f, l in zip(train_features, train_labels)], dtype=compound_dtype)\n",
    "    eval_data = np.array([(f, l) for f, l in zip(eval_features, eval_labels)], dtype=compound_dtype)\n",
    "    \n",
    "    valid_ds = h5f.create_dataset(\"validation\", data=eval_data, chunks=True)\n",
    "    train_ds = h5f.create_dataset(\"training\", data=train_data, chunks=True)"
   ]
  },
  {
   "cell_type": "markdown",
   "id": "e34ca934-7057-49a2-9a4c-42b8a242b0eb",
   "metadata": {},
   "source": [
    "### UNK Ratio"
   ]
  },
  {
   "cell_type": "code",
   "execution_count": 8,
   "id": "2e400377-72ec-4952-a295-63abcf0d36ee",
   "metadata": {},
   "outputs": [],
   "source": [
    "def calculate_unk_ratio(h5_path, vocab):\n",
    "    with h5py.File(h5_path, \"r\") as h5f:\n",
    "        training_data = h5f[\"training\"]\n",
    "        unk_index = vocab.word_to_index[vocab.unk_token]\n",
    "        total_unk = 0\n",
    "        total = 0\n",
    "        for wrd_indices, _ in training_data:\n",
    "            total_unk += sum(wrd_indices==unk_index)\n",
    "            total += len(wrd_indices)\n",
    "        print(f\"Total tokens: {total}\")\n",
    "        print(f\"UNK tokens: {total_unk}\")\n",
    "        print(f\"Ratio: {round(total_unk/total*100, 4)}%\")"
   ]
  },
  {
   "cell_type": "code",
   "execution_count": 9,
   "id": "534de9ac-8b70-4375-bb5b-6e9e6a9dbb18",
   "metadata": {},
   "outputs": [
    {
     "name": "stdout",
     "output_type": "stream",
     "text": [
      "Total tokens: 5093090\n",
      "UNK tokens: 122692\n",
      "Ratio: 2.409%\n"
     ]
    }
   ],
   "source": [
    "calculate_unk_ratio(\"data/finetuning_split.h5\", vocab)"
   ]
  },
  {
   "cell_type": "markdown",
   "id": "49e1bb7a-ca03-4dcd-9953-291bbeb6ef3c",
   "metadata": {},
   "source": [
    "### sentiment140"
   ]
  },
  {
   "cell_type": "code",
   "execution_count": 2,
   "id": "ffbe6b35-45e8-4c43-98db-a8aa15f63301",
   "metadata": {},
   "outputs": [],
   "source": [
    "df = pandas.read_csv(\"data/sentiment140.csv\", encoding=\"ISO-8859-1\", delimiter=\",\")"
   ]
  },
  {
   "cell_type": "code",
   "execution_count": 3,
   "id": "3c595ff4-dc8d-4fdd-963b-16bfb8a9bab5",
   "metadata": {},
   "outputs": [
    {
     "name": "stdout",
     "output_type": "stream",
     "text": [
      "Index(['target', 'ids', 'date', 'flag', 'user', 'text'], dtype='object')\n"
     ]
    }
   ],
   "source": [
    "print(df.keys())"
   ]
  },
  {
   "cell_type": "code",
   "execution_count": 4,
   "id": "9b4d6ca1-966e-4a19-af81-7007647694a7",
   "metadata": {},
   "outputs": [],
   "source": [
    "def process_str(x: str) -> list[str]:\n",
    "    x = x.lower()\n",
    "    x = re.sub(r'(https?://\\S+|www\\.\\S+)', '<URL>', x)\n",
    "    x = re.sub(r'@\\w+','<USERNAME>', x)\n",
    "    x = re.sub(r'([.,:;!?()\"\\'])', r' \\1 ', x) # add whitespace around punctuation\n",
    "    return x.split()"
   ]
  },
  {
   "cell_type": "code",
   "execution_count": 5,
   "id": "1f4dfd11-00d0-45fe-9cd2-07c3e2294c30",
   "metadata": {},
   "outputs": [],
   "source": [
    "vocab = Vocabulary(extra_tokens=[\"<LABEL_MASK>\"])"
   ]
  },
  {
   "cell_type": "code",
   "execution_count": 6,
   "id": "688b615b-7c00-47f3-ad3c-fb85d05a393a",
   "metadata": {},
   "outputs": [
    {
     "name": "stdout",
     "output_type": "stream",
     "text": [
      "['<USERNAME>', '<URL>', '-', 'awww', ',', 'that', \"'\", 's', 'a', 'bummer', '.', 'you', 'shoulda', 'got', 'david', 'carr', 'of', 'third', 'day', 'to', 'do', 'it', '.', ';', 'd', '<NEGATIVE>']\n"
     ]
    }
   ],
   "source": [
    "texts = [process_str(s)+[(\"<NEGATIVE>\" if t==0 else \"<POSITIVE>\")] for s, t in zip(df[\"text\"], df[\"target\"])]\n",
    "vocab.build(texts, vocab_size=30000)\n",
    "print(texts[0])"
   ]
  },
  {
   "cell_type": "code",
   "execution_count": 7,
   "id": "bd82cd84-6007-49c1-8b54-2297e68a5e7c",
   "metadata": {},
   "outputs": [],
   "source": [
    "text_ids = [vocab.words_to_indices(s) for s in texts]"
   ]
  },
  {
   "cell_type": "code",
   "execution_count": 8,
   "id": "d4b2c2e5-20f6-4f8d-9874-f28942f842fd",
   "metadata": {},
   "outputs": [
    {
     "data": {
      "text/plain": [
       "230"
      ]
     },
     "execution_count": 8,
     "metadata": {},
     "output_type": "execute_result"
    }
   ],
   "source": [
    "max([len(x) for x in texts])"
   ]
  },
  {
   "cell_type": "code",
   "execution_count": 9,
   "id": "0250feb7-69db-4d0b-a6a6-bc8a1d126be4",
   "metadata": {},
   "outputs": [],
   "source": [
    "count_training = len(text_ids)-100000\n",
    "count_valid = 100000\n",
    "training_indices = np.arange(0, count_training)\n",
    "valid_indices = np.arange(0, count_valid)\n",
    "\n",
    "np.random.shuffle(training_indices)\n",
    "np.random.shuffle(valid_indices)\n",
    "training_data = [text_ids[idx] for idx in training_indices]\n",
    "valid_data = [text_ids[idx] for idx in valid_indices]"
   ]
  },
  {
   "cell_type": "code",
   "execution_count": 10,
   "id": "a3b67715-8229-4fd9-a8f7-9bec6b21a792",
   "metadata": {},
   "outputs": [],
   "source": [
    "with h5py.File(\"data/sentiment140.h5\", \"w\") as h5f:\n",
    "    dt = h5py.special_dtype(vlen=int)\n",
    "\n",
    "    training_ds = h5f.create_dataset(\"training\", shape=(len(training_data),), chunks=True, dtype=dt)\n",
    "    valid_ds = h5f.create_dataset(\"validation\", shape=(len(valid_data),), chunks=True, dtype=dt)\n",
    "\n",
    "    training_ds[:] = training_data\n",
    "    valid_ds[:] = valid_data"
   ]
  },
  {
   "cell_type": "code",
   "execution_count": 11,
   "id": "e9c5ed03-0279-4945-9541-fdf712d07dfa",
   "metadata": {},
   "outputs": [
    {
     "name": "stdout",
     "output_type": "stream",
     "text": [
      "Total tokens: 26353084\n",
      "UNK tokens: 586413\n",
      "Ratio: 2.2252%\n"
     ]
    }
   ],
   "source": [
    "\n",
    "with h5py.File(\"data/sentiment140.h5\", \"r\") as h5f:\n",
    "    training_data = h5f[\"training\"]\n",
    "    unk_index = vocab.word_to_index[vocab.unk_token]\n",
    "    total_unk = 0\n",
    "    total = 0\n",
    "    for wrd_indices in training_data:\n",
    "        total_unk += sum(wrd_indices==unk_index)\n",
    "        total += len(wrd_indices)\n",
    "    print(f\"Total tokens: {total}\")\n",
    "    print(f\"UNK tokens: {total_unk}\")\n",
    "    print(f\"Ratio: {round(total_unk/total*100, 4)}%\")"
   ]
  },
  {
   "cell_type": "code",
   "execution_count": 12,
   "id": "a9c219c1-ee4f-498b-91c8-5783ca7776c9",
   "metadata": {},
   "outputs": [
    {
     "name": "stdout",
     "output_type": "stream",
     "text": [
      "['<USERNAME>', 'not', 'the', 'whole', 'crew', '<NEGATIVE>']\n",
      "[9, 38, 12, 446, 2220, 7]\n",
      "['<USERNAME>', 'not', 'the', 'whole', 'crew', '<NEGATIVE>']\n"
     ]
    }
   ],
   "source": [
    "print(texts[5])\n",
    "print(a:=vocab.words_to_indices(texts[5]))\n",
    "print(vocab.index_to_words(a))"
   ]
  },
  {
   "cell_type": "code",
   "execution_count": 13,
   "id": "3dca3372-cf16-4c53-b21e-db6b93d73e39",
   "metadata": {},
   "outputs": [],
   "source": [
    "vocab.save(\"data/vocab2.json\")"
   ]
  },
  {
   "cell_type": "markdown",
   "id": "a95d9dd0-02a3-421b-9e63-2d79166905e8",
   "metadata": {},
   "source": [
    "# Finetune data 2"
   ]
  },
  {
   "cell_type": "code",
   "execution_count": null,
   "id": "45dcbab8-872f-412b-809a-4f6ac1002ff7",
   "metadata": {},
   "outputs": [],
   "source": []
  }
 ],
 "metadata": {
  "kernelspec": {
   "display_name": "Python 3 (ipykernel)",
   "language": "python",
   "name": "python3"
  },
  "language_info": {
   "codemirror_mode": {
    "name": "ipython",
    "version": 3
   },
   "file_extension": ".py",
   "mimetype": "text/x-python",
   "name": "python",
   "nbconvert_exporter": "python",
   "pygments_lexer": "ipython3",
   "version": "3.12.7"
  }
 },
 "nbformat": 4,
 "nbformat_minor": 5
}
