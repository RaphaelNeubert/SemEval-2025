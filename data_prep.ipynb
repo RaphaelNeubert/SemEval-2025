{
 "cells": [
  {
   "cell_type": "code",
   "execution_count": 1,
   "id": "e4d8208e-d69d-43d6-ae00-f3dd09aaf148",
   "metadata": {},
   "outputs": [],
   "source": [
    "import h5py\n",
    "import matplotlib.pyplot as plt\n",
    "from collections import Counter\n",
    "from data import Vocabulary\n",
    "import numpy as np\n",
    "from tqdm import tqdm"
   ]
  },
  {
   "cell_type": "code",
   "execution_count": 2,
   "id": "c5072c80-1448-446a-859c-38c30ec80e96",
   "metadata": {},
   "outputs": [],
   "source": [
    "f = open(\"data/books_large.txt\")\n",
    "data = f.readlines()"
   ]
  },
  {
   "cell_type": "code",
   "execution_count": 3,
   "id": "e1e060de-2152-49be-bf27-050ba8c6f8c6",
   "metadata": {},
   "outputs": [],
   "source": [
    "counter = Counter()\n",
    "for d in data:\n",
    "    counter[len(d.split())] += 1"
   ]
  },
  {
   "cell_type": "code",
   "execution_count": 4,
   "id": "382c2f85-4464-4094-ae32-439af119730a",
   "metadata": {},
   "outputs": [
    {
     "name": "stdout",
     "output_type": "stream",
     "text": [
      "Sentences longer than 100 tokens: 11113\n"
     ]
    },
    {
     "data": {
      "image/png": "[encoded data removed]",
      "text/plain": [
       "<Figure size 1200x600 with 2 Axes>"
      ]
     },
     "metadata": {},
     "output_type": "display_data"
    }
   ],
   "source": [
    "sorted_items = sorted(counter.items(), key=lambda x: x[0])\n",
    "lengths, counts = zip(*sorted_items)\n",
    "sums = [sum(counts[i:]) for i in range(len(lengths))]\n",
    "\n",
    "fig, axs = plt.subplots(1, 2, figsize=(12, 6))\n",
    "\n",
    "axs[0].bar(lengths[:100], counts[:100])\n",
    "axs[0].set_title(\"Counts by Length\")\n",
    "axs[0].set_xlabel(\"sentence length\")\n",
    "axs[0].set_ylabel(\"count\")\n",
    "\n",
    "axs[1].bar(lengths[:100], sums[:100])\n",
    "axs[1].set_title(\"Cumulative Counts by Length\")\n",
    "axs[1].set_xlabel(\"sentence length\")\n",
    "\n",
    "print(f\"Sentences longer than 100 tokens: {sum(counts[100:])}\")"
   ]
  },
  {
   "cell_type": "code",
   "execution_count": 5,
   "id": "fefa07ea-6e81-4503-be92-8c329cc9ac01",
   "metadata": {},
   "outputs": [
    {
     "name": "stderr",
     "output_type": "stream",
     "text": [
      "100%|█████████████████████████████████████████████████████████████████████████████████████████████████████████████████████████████████████████████████████████████| 74004228/74004228 [1:30:24<00:00, 13641.36it/s]\n"
     ]
    }
   ],
   "source": [
    "min_seq_len = 5\n",
    "max_seq_len = 100\n",
    "\n",
    "valid_size = 1e5\n",
    "test_size = 1e5\n",
    "\n",
    "vocab = Vocabulary.load(\"data/vocab.json\")\n",
    "indices = np.arange(len(data))\n",
    "np.random.shuffle(indices)\n",
    "\n",
    "with h5py.File(\"data/pretraining_split.h5\", \"w\") as h5f:\n",
    "    dt = h5py.special_dtype(vlen=int)\n",
    "    valid_ds = h5f.create_dataset(\"validation\", shape=(valid_size,), dtype=dt, chunks=True)\n",
    "    test_ds = h5f.create_dataset(\"test\", shape=(test_size,), dtype=dt, chunks=True)\n",
    "    training_ds = h5f.create_dataset(\"training\", shape=(len(data) - valid_size - test_size,), dtype=dt, chunks=True, maxshape=(None,))\n",
    "    \n",
    "    count_valid = count_test = count_train  = 0\n",
    "    for idx in tqdm(indices):\n",
    "        wrd_indices = vocab.words_to_indices(data[idx].split())\n",
    "        \n",
    "        if len(wrd_indices) < min_seq_len or len(wrd_indices) > max_seq_len:\n",
    "            continue\n",
    "\n",
    "        if count_valid < valid_size:\n",
    "            valid_ds[count_valid] = wrd_indices\n",
    "            count_valid += 1\n",
    "        elif count_test < test_size:\n",
    "            test_ds[count_test] = wrd_indices\n",
    "            count_test += 1\n",
    "        else:\n",
    "            training_ds[count_train] = wrd_indices\n",
    "            count_train += 1\n",
    "    \n",
    "    training_ds.resize((count_train,)) # since we filtered out some sentences, resize to the actual size"
   ]
  },
  {
   "cell_type": "code",
   "execution_count": 6,
   "id": "05df1b0d-953e-4d09-8f82-f05a35d2eb00",
   "metadata": {},
   "outputs": [
    {
     "data": {
      "text/plain": [
       "100000.0"
      ]
     },
     "execution_count": 6,
     "metadata": {},
     "output_type": "execute_result"
    }
   ],
   "source": []
  },
  {
   "cell_type": "code",
   "execution_count": 28,
   "id": "f1507268-fd70-4f96-8278-baaaa9cc9cc5",
   "metadata": {},
   "outputs": [
    {
     "name": "stdout",
     "output_type": "stream",
     "text": [
      "Total tokens: 1450196\n",
      "UNK tokens: 22857\n",
      "Ratio: 1.5761%\n"
     ]
    }
   ],
   "source": [
    "with h5py.File(\"data/pretraining_split.h5\", \"r\") as h5f:\n",
    "    valid_ds = h5f[\"validation\"]\n",
    "    unk_index = vocab.word_to_index[vocab.unk_token]\n",
    "    total_unk = 0\n",
    "    total = 0\n",
    "    for wrd_indices in valid_ds:\n",
    "        total_unk += sum(wrd_indices==unk_index)\n",
    "        total += len(wrd_indices)\n",
    "    print(f\"Total tokens: {total}\")\n",
    "    print(f\"UNK tokens: {total_unk}\")\n",
    "    print(f\"Ratio: {round(total_unk/total*100, 4)}%\")"
   ]
  },
  {
   "cell_type": "code",
   "execution_count": null,
   "id": "4f23fd1a-87ed-4423-a3c9-8607cd63c591",
   "metadata": {},
   "outputs": [],
   "source": []
  }
 ],
 "metadata": {
  "kernelspec": {
   "display_name": "Python 3 (ipykernel)",
   "language": "python",
   "name": "python3"
  },
  "language_info": {
   "codemirror_mode": {
    "name": "ipython",
    "version": 3
   },
   "file_extension": ".py",
   "mimetype": "text/x-python",
   "name": "python",
   "nbconvert_exporter": "python",
   "pygments_lexer": "ipython3",
   "version": "3.12.7"
  }
 },
 "nbformat": 4,
 "nbformat_minor": 5
}
